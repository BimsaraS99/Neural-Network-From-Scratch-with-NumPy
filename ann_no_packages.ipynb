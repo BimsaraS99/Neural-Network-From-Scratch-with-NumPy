{
 "cells": [
  {
   "cell_type": "code",
   "execution_count": 1012,
   "id": "3983e59e-6731-4fd4-b2df-7dd86cbeaf31",
   "metadata": {},
   "outputs": [],
   "source": [
    "import numpy as np\n",
    "import pandas as pd\n",
    "from matplotlib import pyplot as plt"
   ]
  },
  {
   "cell_type": "code",
   "execution_count": 1013,
   "id": "548ef1ff-a525-4b33-bfc0-bde31699b5a9",
   "metadata": {},
   "outputs": [],
   "source": [
    "data_set_path = \"digit-recognizer/train.csv\"\n",
    "data = pd.read_csv(data_set_path)"
   ]
  },
  {
   "cell_type": "code",
   "execution_count": 1014,
   "id": "31347709-ea39-415d-a2f1-3bd939506936",
   "metadata": {},
   "outputs": [
    {
     "data": {
      "text/html": [
       "<div>\n",
       "<style scoped>\n",
       "    .dataframe tbody tr th:only-of-type {\n",
       "        vertical-align: middle;\n",
       "    }\n",
       "\n",
       "    .dataframe tbody tr th {\n",
       "        vertical-align: top;\n",
       "    }\n",
       "\n",
       "    .dataframe thead th {\n",
       "        text-align: right;\n",
       "    }\n",
       "</style>\n",
       "<table border=\"1\" class=\"dataframe\">\n",
       "  <thead>\n",
       "    <tr style=\"text-align: right;\">\n",
       "      <th></th>\n",
       "      <th>label</th>\n",
       "      <th>pixel0</th>\n",
       "      <th>pixel1</th>\n",
       "      <th>pixel2</th>\n",
       "      <th>pixel3</th>\n",
       "      <th>pixel4</th>\n",
       "      <th>pixel5</th>\n",
       "      <th>pixel6</th>\n",
       "      <th>pixel7</th>\n",
       "      <th>pixel8</th>\n",
       "      <th>...</th>\n",
       "      <th>pixel774</th>\n",
       "      <th>pixel775</th>\n",
       "      <th>pixel776</th>\n",
       "      <th>pixel777</th>\n",
       "      <th>pixel778</th>\n",
       "      <th>pixel779</th>\n",
       "      <th>pixel780</th>\n",
       "      <th>pixel781</th>\n",
       "      <th>pixel782</th>\n",
       "      <th>pixel783</th>\n",
       "    </tr>\n",
       "  </thead>\n",
       "  <tbody>\n",
       "    <tr>\n",
       "      <th>0</th>\n",
       "      <td>1</td>\n",
       "      <td>0</td>\n",
       "      <td>0</td>\n",
       "      <td>0</td>\n",
       "      <td>0</td>\n",
       "      <td>0</td>\n",
       "      <td>0</td>\n",
       "      <td>0</td>\n",
       "      <td>0</td>\n",
       "      <td>0</td>\n",
       "      <td>...</td>\n",
       "      <td>0</td>\n",
       "      <td>0</td>\n",
       "      <td>0</td>\n",
       "      <td>0</td>\n",
       "      <td>0</td>\n",
       "      <td>0</td>\n",
       "      <td>0</td>\n",
       "      <td>0</td>\n",
       "      <td>0</td>\n",
       "      <td>0</td>\n",
       "    </tr>\n",
       "    <tr>\n",
       "      <th>1</th>\n",
       "      <td>0</td>\n",
       "      <td>0</td>\n",
       "      <td>0</td>\n",
       "      <td>0</td>\n",
       "      <td>0</td>\n",
       "      <td>0</td>\n",
       "      <td>0</td>\n",
       "      <td>0</td>\n",
       "      <td>0</td>\n",
       "      <td>0</td>\n",
       "      <td>...</td>\n",
       "      <td>0</td>\n",
       "      <td>0</td>\n",
       "      <td>0</td>\n",
       "      <td>0</td>\n",
       "      <td>0</td>\n",
       "      <td>0</td>\n",
       "      <td>0</td>\n",
       "      <td>0</td>\n",
       "      <td>0</td>\n",
       "      <td>0</td>\n",
       "    </tr>\n",
       "    <tr>\n",
       "      <th>2</th>\n",
       "      <td>1</td>\n",
       "      <td>0</td>\n",
       "      <td>0</td>\n",
       "      <td>0</td>\n",
       "      <td>0</td>\n",
       "      <td>0</td>\n",
       "      <td>0</td>\n",
       "      <td>0</td>\n",
       "      <td>0</td>\n",
       "      <td>0</td>\n",
       "      <td>...</td>\n",
       "      <td>0</td>\n",
       "      <td>0</td>\n",
       "      <td>0</td>\n",
       "      <td>0</td>\n",
       "      <td>0</td>\n",
       "      <td>0</td>\n",
       "      <td>0</td>\n",
       "      <td>0</td>\n",
       "      <td>0</td>\n",
       "      <td>0</td>\n",
       "    </tr>\n",
       "    <tr>\n",
       "      <th>3</th>\n",
       "      <td>4</td>\n",
       "      <td>0</td>\n",
       "      <td>0</td>\n",
       "      <td>0</td>\n",
       "      <td>0</td>\n",
       "      <td>0</td>\n",
       "      <td>0</td>\n",
       "      <td>0</td>\n",
       "      <td>0</td>\n",
       "      <td>0</td>\n",
       "      <td>...</td>\n",
       "      <td>0</td>\n",
       "      <td>0</td>\n",
       "      <td>0</td>\n",
       "      <td>0</td>\n",
       "      <td>0</td>\n",
       "      <td>0</td>\n",
       "      <td>0</td>\n",
       "      <td>0</td>\n",
       "      <td>0</td>\n",
       "      <td>0</td>\n",
       "    </tr>\n",
       "    <tr>\n",
       "      <th>4</th>\n",
       "      <td>0</td>\n",
       "      <td>0</td>\n",
       "      <td>0</td>\n",
       "      <td>0</td>\n",
       "      <td>0</td>\n",
       "      <td>0</td>\n",
       "      <td>0</td>\n",
       "      <td>0</td>\n",
       "      <td>0</td>\n",
       "      <td>0</td>\n",
       "      <td>...</td>\n",
       "      <td>0</td>\n",
       "      <td>0</td>\n",
       "      <td>0</td>\n",
       "      <td>0</td>\n",
       "      <td>0</td>\n",
       "      <td>0</td>\n",
       "      <td>0</td>\n",
       "      <td>0</td>\n",
       "      <td>0</td>\n",
       "      <td>0</td>\n",
       "    </tr>\n",
       "  </tbody>\n",
       "</table>\n",
       "<p>5 rows × 785 columns</p>\n",
       "</div>"
      ],
      "text/plain": [
       "   label  pixel0  pixel1  pixel2  pixel3  pixel4  pixel5  pixel6  pixel7  \\\n",
       "0      1       0       0       0       0       0       0       0       0   \n",
       "1      0       0       0       0       0       0       0       0       0   \n",
       "2      1       0       0       0       0       0       0       0       0   \n",
       "3      4       0       0       0       0       0       0       0       0   \n",
       "4      0       0       0       0       0       0       0       0       0   \n",
       "\n",
       "   pixel8  ...  pixel774  pixel775  pixel776  pixel777  pixel778  pixel779  \\\n",
       "0       0  ...         0         0         0         0         0         0   \n",
       "1       0  ...         0         0         0         0         0         0   \n",
       "2       0  ...         0         0         0         0         0         0   \n",
       "3       0  ...         0         0         0         0         0         0   \n",
       "4       0  ...         0         0         0         0         0         0   \n",
       "\n",
       "   pixel780  pixel781  pixel782  pixel783  \n",
       "0         0         0         0         0  \n",
       "1         0         0         0         0  \n",
       "2         0         0         0         0  \n",
       "3         0         0         0         0  \n",
       "4         0         0         0         0  \n",
       "\n",
       "[5 rows x 785 columns]"
      ]
     },
     "execution_count": 1014,
     "metadata": {},
     "output_type": "execute_result"
    }
   ],
   "source": [
    "data.head()"
   ]
  },
  {
   "cell_type": "code",
   "execution_count": 1015,
   "id": "db2c7677-235e-4f08-a15b-2e42f3b11027",
   "metadata": {},
   "outputs": [],
   "source": [
    "data = np.array(data)\n",
    "m, n = data.shape\n",
    "np.random.shuffle(data) # shuffle before splitting into dev and training sets"
   ]
  },
  {
   "cell_type": "code",
   "execution_count": 1016,
   "id": "c783731a-9b32-4467-851d-7cca16a39281",
   "metadata": {},
   "outputs": [
    {
     "data": {
      "text/plain": [
       "(42000, 785)"
      ]
     },
     "execution_count": 1016,
     "metadata": {},
     "output_type": "execute_result"
    }
   ],
   "source": [
    "data.shape"
   ]
  },
  {
   "cell_type": "markdown",
   "id": "5f25c1ea-dbff-4247-999d-8b81d1ef4c76",
   "metadata": {},
   "source": [
    "## Splitting dataset into Train and Test sets"
   ]
  },
  {
   "cell_type": "code",
   "execution_count": 1017,
   "id": "0802ae86-489a-46e0-b99a-db0176e9ea40",
   "metadata": {},
   "outputs": [],
   "source": [
    "def split_data(dataset, train_test_ratio):\n",
    "    m = len(dataset)\n",
    "    n = len(dataset[0])\n",
    "\n",
    "    split_index = int(m * train_test_ratio)\n",
    "\n",
    "    data_test = dataset[0:split_index].T\n",
    "    Y_test = data_test[0]\n",
    "    X_test = data_test[1:n]\n",
    "\n",
    "    data_train = dataset[split_index:m].T\n",
    "    Y_train = data_train[0]\n",
    "    X_train = data_train[1:n]\n",
    "\n",
    "    return X_train, Y_train, X_test, Y_test\n",
    "\n",
    "train_test_ratio = 1/50\n",
    "X_train, Y_train, X_test, Y_test = split_data(data, train_test_ratio)"
   ]
  },
  {
   "cell_type": "code",
   "execution_count": 1018,
   "id": "f5c09e7c-7fc0-4c13-92bb-d3998f885653",
   "metadata": {},
   "outputs": [
    {
     "name": "stdout",
     "output_type": "stream",
     "text": [
      "(784, 41160)\n",
      "(41160,)\n",
      "(784, 840)\n",
      "(840,)\n"
     ]
    }
   ],
   "source": [
    "print(X_train.shape)\n",
    "print(Y_train.shape)\n",
    "print(X_test.shape)\n",
    "print(Y_test.shape)"
   ]
  },
  {
   "cell_type": "markdown",
   "id": "cb95be48-9d5a-4b4b-812f-dabece630700",
   "metadata": {},
   "source": [
    "## Feature scalling with min-max method"
   ]
  },
  {
   "cell_type": "code",
   "execution_count": 1019,
   "id": "0a4afd37-def5-4ef5-bf94-6bf25b9275d5",
   "metadata": {},
   "outputs": [],
   "source": [
    "def min_max_scaling(X, X_min=None, X_max=None):\n",
    "    if X_min is None:\n",
    "        X_min = np.min(X, axis=0)\n",
    "    if X_max is None:\n",
    "        X_max = np.max(X, axis=0)\n",
    "\n",
    "    X_scaled = (X - X_min) / (X_max - X_min)\n",
    "\n",
    "    return X_scaled\n",
    "\n",
    "X_train = min_max_scaling(X_train)\n",
    "X_test = min_max_scaling(X_test)"
   ]
  },
  {
   "cell_type": "code",
   "execution_count": 1020,
   "id": "1421382d-06d4-4166-a8ce-d19609804a70",
   "metadata": {},
   "outputs": [
    {
     "name": "stdout",
     "output_type": "stream",
     "text": [
      "(784, 41160)\n",
      "(41160,)\n",
      "(784, 840)\n",
      "(840,)\n"
     ]
    }
   ],
   "source": [
    "print(X_train.shape)\n",
    "print(Y_train.shape)\n",
    "print(X_test.shape)\n",
    "print(Y_test.shape)"
   ]
  },
  {
   "cell_type": "markdown",
   "id": "1ec52f4d-942c-4fb7-969d-da3e0108366b",
   "metadata": {},
   "source": [
    "## Weight and bias initialization with normalization"
   ]
  },
  {
   "cell_type": "code",
   "execution_count": 1021,
   "id": "5c77660f-6936-460f-b1d5-e52b552cd4a0",
   "metadata": {},
   "outputs": [],
   "source": [
    "def init_params():\n",
    "    W1 = np.random.normal(size=(10, 784)) * np.sqrt(1./(784))\n",
    "    b1 = np.random.normal(size=(10, 1)) * np.sqrt(1./10)\n",
    "    W2 = np.random.normal(size=(10, 10)) * np.sqrt(1./20)\n",
    "    b2 = np.random.normal(size=(10, 1)) * np.sqrt(1./(784))\n",
    "    return W1, b1, W2, b2"
   ]
  },
  {
   "cell_type": "markdown",
   "id": "803ac497-3d47-413a-86f4-d1cece736856",
   "metadata": {},
   "source": [
    "## Activation functions, ReLU and Softmax "
   ]
  },
  {
   "cell_type": "code",
   "execution_count": 1022,
   "id": "b85ab9cb-a78c-458d-81c1-11b5ef21acf0",
   "metadata": {},
   "outputs": [],
   "source": [
    "def ReLU(Z):\n",
    "    return np.maximum(Z, 0)\n",
    "\n",
    "def softmax(Z):\n",
    "    A = np.exp(Z) / sum(np.exp(Z))\n",
    "    return A\n",
    "\n",
    "def ReLU_deriv(Z):\n",
    "    # ReLU is computationally more efficient compared to some other activation funtions, reason to used in hidden layers\n",
    "    return Z > 0"
   ]
  },
  {
   "cell_type": "markdown",
   "id": "417bba6c-4334-4f54-9259-3312c066952d",
   "metadata": {},
   "source": [
    "## Encoding the labels with OneHotEncoding\n",
    "####  [7],   [1]... ---> [0, 0, 0, 0, 0, 0, 1, 0, 0, 0],   [0, 1, 0, 0, 0, 0, 0, 0, 0, 0]"
   ]
  },
  {
   "cell_type": "code",
   "execution_count": 1023,
   "id": "be45a219-3144-48f5-8237-55cf7ae97f45",
   "metadata": {},
   "outputs": [
    {
     "name": "stdout",
     "output_type": "stream",
     "text": [
      "(10, 41160)\n"
     ]
    }
   ],
   "source": [
    "def one_hot(Y):\n",
    "    one_hot_Y = np.zeros((Y.size, Y.max() + 1))\n",
    "    one_hot_Y[np.arange(Y.size), Y] = 1\n",
    "    one_hot_Y = one_hot_Y.T\n",
    "    return one_hot_Y\n",
    "\n",
    "Y_train_ = one_hot(Y_train)\n",
    "print(Y_train_.shape)"
   ]
  },
  {
   "cell_type": "markdown",
   "id": "66f5b15e-0270-4a25-a0f5-4941b37c8515",
   "metadata": {},
   "source": [
    "## Define the Forward and Backward propagation functions"
   ]
  },
  {
   "cell_type": "code",
   "execution_count": 1024,
   "id": "1d7744f2-36a9-4633-9bda-15b88332e602",
   "metadata": {},
   "outputs": [],
   "source": [
    "def forward_prop(W1, b1, W2, b2, X):\n",
    "    Z1 = W1.dot(X) + b1\n",
    "    A1 = ReLU(Z1)\n",
    "    Z2 = W2.dot(A1) + b2\n",
    "    A2 = softmax(Z2)\n",
    "    return Z1, A1, Z2, A2"
   ]
  },
  {
   "cell_type": "code",
   "execution_count": 1025,
   "id": "88bf9c1c-a927-4bf0-8874-418bae14869f",
   "metadata": {},
   "outputs": [],
   "source": [
    "def backward_prop(Z1, A1, Z2, A2, W1, W2, X, Y):\n",
    "    m_size = X.shape[1] \n",
    "    \n",
    "    # backward pass for the layer 02\n",
    "    dE2 = A2 - Y_train_ \n",
    "    # The softmax derivative is not explicitly used in the second layer, to simplifies the derivative computation during backpropagation\n",
    "    dW2 = 1 / m_size * dE2.dot(A1.T)\n",
    "    db2 = 1 / m_size * np.sum(dE2)\n",
    "\n",
    "    # backward pass for the layer 01\n",
    "    dA1 = W2.T.dot(dE2)\n",
    "    dE1 = dA1 * ReLU_deriv(Z1)\n",
    "    db1 = 1 / m_size * np.sum(dE1)\n",
    "    dW1 = 1 / m_size * dE1.dot(X.T)\n",
    "    \n",
    "    return dW1, db1, dW2, db2"
   ]
  },
  {
   "cell_type": "markdown",
   "id": "4caf6412-6674-45d4-9b8c-dc2de08163d4",
   "metadata": {},
   "source": [
    "## Updating weights and bias"
   ]
  },
  {
   "cell_type": "code",
   "execution_count": 1026,
   "id": "b62b1cf8-a279-49fd-bf5b-1677fe389e39",
   "metadata": {},
   "outputs": [],
   "source": [
    "def update_params(W1, b1, W2, b2, dW1, db1, dW2, db2, learning_rate):\n",
    "    W1 = W1 - learning_rate * dW1\n",
    "    b1 = b1 - learning_rate * db1    \n",
    "    W2 = W2 - learning_rate * dW2  \n",
    "    b2 = b2 - learning_rate * db2    \n",
    "    return W1, b1, W2, b2"
   ]
  },
  {
   "cell_type": "code",
   "execution_count": 1027,
   "id": "83aa3a56-24ae-4964-8e83-16a8aa7991c9",
   "metadata": {},
   "outputs": [],
   "source": [
    "def get_predictions(A2):\n",
    "    return np.argmax(A2, 0)\n",
    "\n",
    "def get_accuracy(predictions, Y):\n",
    "    return np.sum(predictions == Y) / Y.size"
   ]
  },
  {
   "cell_type": "markdown",
   "id": "ecdf33b2-e21c-4ef0-b13d-b244d5a0fe3b",
   "metadata": {},
   "source": [
    "## Gradient descent function"
   ]
  },
  {
   "cell_type": "code",
   "execution_count": 1028,
   "id": "647bd783-a767-4df5-a88a-28b79b6c4846",
   "metadata": {},
   "outputs": [],
   "source": [
    "History = {\n",
    "    \"accuracy\":list(),\n",
    "    \"loss\":list(),\n",
    "}\n",
    "\n",
    "def gradient_descent(X, Y, learning_rate, iterations, batch_size):\n",
    "    W1, b1, W2, b2 = init_params()\n",
    "    for i in range(iterations):\n",
    "        Z1, A1, Z2, A2 = forward_prop(W1, b1, W2, b2, X)\n",
    "        dW1, db1, dW2, db2 = backward_prop(Z1, A1, Z2, A2, W1, W2, X, Y)\n",
    "        W1, b1, W2, b2 = update_params(W1, b1, W2, b2, dW1, db1, dW2, db2, learning_rate)\n",
    "        if i % 10 == 0:\n",
    "            predictions = get_predictions(A2)\n",
    "            accuracy = get_accuracy(predictions, Y)\n",
    "            History[\"accuracy\"].append(accuracy)\n",
    "            print(f\"Iteration: {i}, Accuracy: {accuracy}\")\n",
    "\n",
    "    return W1, b1, W2, b2"
   ]
  },
  {
   "cell_type": "markdown",
   "id": "394a5070-77cf-492d-80c5-ba81851ebb7a",
   "metadata": {},
   "source": [
    "## Model training"
   ]
  },
  {
   "cell_type": "code",
   "execution_count": 1029,
   "id": "7747e506-8db6-42e2-85df-e46132d84691",
   "metadata": {},
   "outputs": [
    {
     "name": "stdout",
     "output_type": "stream",
     "text": [
      "Iteration: 0, Accuracy: 0.11802721088435374\n",
      "Iteration: 10, Accuracy: 0.29409620991253643\n",
      "Iteration: 20, Accuracy: 0.4277696793002915\n",
      "Iteration: 30, Accuracy: 0.5661807580174927\n",
      "Iteration: 40, Accuracy: 0.6908649173955297\n",
      "Iteration: 50, Accuracy: 0.7388969873663751\n",
      "Iteration: 60, Accuracy: 0.7719630709426628\n",
      "Iteration: 70, Accuracy: 0.79533527696793\n",
      "Iteration: 80, Accuracy: 0.8105442176870749\n",
      "Iteration: 90, Accuracy: 0.8222060252672497\n",
      "Iteration: 100, Accuracy: 0.8314625850340136\n",
      "Iteration: 110, Accuracy: 0.8391885325558794\n",
      "Iteration: 120, Accuracy: 0.8449222546161321\n",
      "Iteration: 130, Accuracy: 0.8498299319727891\n",
      "Iteration: 140, Accuracy: 0.8538629737609329\n",
      "Iteration: 150, Accuracy: 0.8578231292517007\n",
      "Iteration: 160, Accuracy: 0.8614917395529641\n",
      "Iteration: 170, Accuracy: 0.8645529640427599\n",
      "Iteration: 180, Accuracy: 0.8671525753158407\n",
      "Iteration: 190, Accuracy: 0.8700437317784256\n",
      "Iteration: 200, Accuracy: 0.8726190476190476\n",
      "Iteration: 210, Accuracy: 0.8747084548104956\n",
      "Iteration: 220, Accuracy: 0.8765792031098154\n",
      "Iteration: 230, Accuracy: 0.8781827016520894\n",
      "Iteration: 240, Accuracy: 0.8798104956268221\n",
      "Iteration: 250, Accuracy: 0.8813411078717202\n",
      "Iteration: 260, Accuracy: 0.8826530612244898\n",
      "Iteration: 270, Accuracy: 0.8838921282798834\n",
      "Iteration: 280, Accuracy: 0.8852526724975704\n",
      "Iteration: 290, Accuracy: 0.886418853255588\n",
      "Iteration: 300, Accuracy: 0.8875121477162293\n",
      "Iteration: 310, Accuracy: 0.8884353741496599\n",
      "Iteration: 320, Accuracy: 0.8895043731778426\n",
      "Iteration: 330, Accuracy: 0.890354713313897\n",
      "Iteration: 340, Accuracy: 0.8912536443148688\n",
      "Iteration: 350, Accuracy: 0.891885325558795\n",
      "Iteration: 360, Accuracy: 0.8926627793974733\n",
      "Iteration: 370, Accuracy: 0.893245869776482\n",
      "Iteration: 380, Accuracy: 0.8938775510204081\n",
      "Iteration: 390, Accuracy: 0.8946307094266278\n",
      "Iteration: 400, Accuracy: 0.8949708454810495\n",
      "Iteration: 410, Accuracy: 0.8955296404275996\n",
      "Iteration: 420, Accuracy: 0.8959912536443149\n",
      "Iteration: 430, Accuracy: 0.8965257531584062\n",
      "Iteration: 440, Accuracy: 0.8971331389698737\n",
      "Iteration: 450, Accuracy: 0.897667638483965\n",
      "Iteration: 460, Accuracy: 0.8983722060252672\n",
      "Iteration: 470, Accuracy: 0.8987609329446065\n",
      "Iteration: 480, Accuracy: 0.8993440233236152\n",
      "Iteration: 490, Accuracy: 0.8997084548104957\n",
      "Iteration: 500, Accuracy: 0.900242954324587\n",
      "Iteration: 510, Accuracy: 0.9007774538386784\n",
      "Iteration: 520, Accuracy: 0.9013605442176871\n",
      "Iteration: 530, Accuracy: 0.9019436345966958\n",
      "Iteration: 540, Accuracy: 0.9025510204081633\n",
      "Iteration: 550, Accuracy: 0.9029640427599611\n",
      "Iteration: 560, Accuracy: 0.9034742468415938\n",
      "Iteration: 570, Accuracy: 0.9038629737609329\n",
      "Iteration: 580, Accuracy: 0.9041545189504373\n",
      "Iteration: 590, Accuracy: 0.9046161321671525\n",
      "Iteration: 600, Accuracy: 0.9049319727891156\n",
      "Iteration: 610, Accuracy: 0.9051506316812439\n",
      "Iteration: 620, Accuracy: 0.9056365403304178\n",
      "Iteration: 630, Accuracy: 0.9060009718172983\n",
      "Iteration: 640, Accuracy: 0.9062925170068027\n",
      "Iteration: 650, Accuracy: 0.9066083576287658\n",
      "Iteration: 660, Accuracy: 0.9068999028182702\n",
      "Iteration: 670, Accuracy: 0.9070456754130224\n",
      "Iteration: 680, Accuracy: 0.9072886297376094\n",
      "Iteration: 690, Accuracy: 0.9076773566569485\n",
      "Iteration: 700, Accuracy: 0.9080660835762877\n",
      "Iteration: 710, Accuracy: 0.9084791059280856\n",
      "Iteration: 720, Accuracy: 0.9086977648202138\n",
      "Iteration: 730, Accuracy: 0.9090621963070943\n",
      "Iteration: 740, Accuracy: 0.909159378036929\n",
      "Iteration: 750, Accuracy: 0.9094509232264334\n",
      "Iteration: 760, Accuracy: 0.9098639455782312\n",
      "Iteration: 770, Accuracy: 0.9100826044703596\n",
      "Iteration: 780, Accuracy: 0.9103984450923226\n",
      "Iteration: 790, Accuracy: 0.9104956268221575\n",
      "Iteration: 800, Accuracy: 0.910617103984451\n",
      "Iteration: 810, Accuracy: 0.9109086491739553\n",
      "Iteration: 820, Accuracy: 0.9111030126336249\n",
      "Iteration: 830, Accuracy: 0.911491739552964\n",
      "Iteration: 840, Accuracy: 0.9119047619047619\n",
      "Iteration: 850, Accuracy: 0.9120019436345967\n",
      "Iteration: 860, Accuracy: 0.9124149659863946\n",
      "Iteration: 870, Accuracy: 0.9126093294460641\n",
      "Iteration: 880, Accuracy: 0.9128036929057337\n",
      "Iteration: 890, Accuracy: 0.9129737609329446\n",
      "Iteration: 900, Accuracy: 0.9131438289601554\n",
      "Iteration: 910, Accuracy: 0.9133138969873664\n",
      "Iteration: 920, Accuracy: 0.913581146744412\n",
      "Iteration: 930, Accuracy: 0.9137512147716229\n",
      "Iteration: 940, Accuracy: 0.9138726919339164\n",
      "Iteration: 950, Accuracy: 0.9142128279883381\n",
      "Iteration: 960, Accuracy: 0.9143828960155491\n",
      "Iteration: 970, Accuracy: 0.9144314868804665\n",
      "Iteration: 980, Accuracy: 0.9148202137998056\n",
      "Iteration: 990, Accuracy: 0.9149416909620991\n",
      "Iteration: 1000, Accuracy: 0.9152089407191448\n",
      "Iteration: 1010, Accuracy: 0.915354713313897\n",
      "Iteration: 1020, Accuracy: 0.9154033041788144\n",
      "Iteration: 1030, Accuracy: 0.9155490767735666\n",
      "Iteration: 1040, Accuracy: 0.9158406219630709\n",
      "Iteration: 1050, Accuracy: 0.9161078717201167\n",
      "Iteration: 1060, Accuracy: 0.9163508260447036\n",
      "Iteration: 1070, Accuracy: 0.9165208940719145\n",
      "Iteration: 1080, Accuracy: 0.9166666666666666\n",
      "Iteration: 1090, Accuracy: 0.9169096209912536\n",
      "Iteration: 1100, Accuracy: 0.9170796890184645\n",
      "Iteration: 1110, Accuracy: 0.9172497570456755\n",
      "Iteration: 1120, Accuracy: 0.9174198250728863\n",
      "Iteration: 1130, Accuracy: 0.9176384839650146\n",
      "Iteration: 1140, Accuracy: 0.917687074829932\n",
      "Iteration: 1150, Accuracy: 0.9178085519922254\n",
      "Iteration: 1160, Accuracy: 0.9179543245869777\n",
      "Iteration: 1170, Accuracy: 0.9179786200194363\n",
      "Iteration: 1180, Accuracy: 0.9181729834791059\n",
      "Iteration: 1190, Accuracy: 0.9184159378036929\n",
      "Iteration: 1200, Accuracy: 0.9185617103984451\n",
      "Iteration: 1210, Accuracy: 0.9185374149659864\n",
      "Iteration: 1220, Accuracy: 0.9186588921282799\n",
      "Iteration: 1230, Accuracy: 0.9188532555879495\n",
      "Iteration: 1240, Accuracy: 0.9189990281827016\n",
      "Iteration: 1250, Accuracy: 0.9191690962099125\n",
      "Iteration: 1260, Accuracy: 0.919290573372206\n",
      "Iteration: 1270, Accuracy: 0.9193877551020408\n",
      "Iteration: 1280, Accuracy: 0.9195092322643343\n",
      "Iteration: 1290, Accuracy: 0.9197035957240038\n",
      "Iteration: 1300, Accuracy: 0.9198493683187561\n",
      "Iteration: 1310, Accuracy: 0.9200437317784257\n",
      "Iteration: 1320, Accuracy: 0.9200923226433431\n",
      "Iteration: 1330, Accuracy: 0.9202380952380952\n",
      "Iteration: 1340, Accuracy: 0.9204567541302235\n",
      "Iteration: 1350, Accuracy: 0.9206511175898932\n",
      "Iteration: 1360, Accuracy: 0.9207968901846453\n",
      "Iteration: 1370, Accuracy: 0.9209183673469388\n",
      "Iteration: 1380, Accuracy: 0.921137026239067\n",
      "Iteration: 1390, Accuracy: 0.9212827988338192\n",
      "Iteration: 1400, Accuracy: 0.9214042759961127\n",
      "Iteration: 1410, Accuracy: 0.9214771622934889\n",
      "Iteration: 1420, Accuracy: 0.9215500485908649\n",
      "Iteration: 1430, Accuracy: 0.9217201166180758\n",
      "Iteration: 1440, Accuracy: 0.9219144800777453\n",
      "Iteration: 1450, Accuracy: 0.9220116618075802\n",
      "Iteration: 1460, Accuracy: 0.9221331389698737\n",
      "Iteration: 1470, Accuracy: 0.9220845481049562\n",
      "Iteration: 1480, Accuracy: 0.9222546161321672\n",
      "Iteration: 1490, Accuracy: 0.9224732750242954\n",
      "Iteration: 1500, Accuracy: 0.9227162293488824\n",
      "Iteration: 1510, Accuracy: 0.9228862973760933\n",
      "Iteration: 1520, Accuracy: 0.9230077745383868\n",
      "Iteration: 1530, Accuracy: 0.9231292517006803\n",
      "Iteration: 1540, Accuracy: 0.9231778425655977\n",
      "Iteration: 1550, Accuracy: 0.9233236151603499\n",
      "Iteration: 1560, Accuracy: 0.923469387755102\n",
      "Iteration: 1570, Accuracy: 0.9234207968901846\n",
      "Iteration: 1580, Accuracy: 0.9236151603498542\n",
      "Iteration: 1590, Accuracy: 0.9237609329446064\n",
      "Iteration: 1600, Accuracy: 0.9238338192419825\n",
      "Iteration: 1610, Accuracy: 0.9239067055393586\n",
      "Iteration: 1620, Accuracy: 0.9239795918367347\n",
      "Iteration: 1630, Accuracy: 0.9240524781341107\n",
      "Iteration: 1640, Accuracy: 0.9241739552964042\n",
      "Iteration: 1650, Accuracy: 0.9241739552964042\n",
      "Iteration: 1660, Accuracy: 0.9242468415937803\n",
      "Iteration: 1670, Accuracy: 0.9243440233236152\n",
      "Iteration: 1680, Accuracy: 0.9243683187560738\n",
      "Iteration: 1690, Accuracy: 0.9243440233236152\n",
      "Iteration: 1700, Accuracy: 0.9244655004859087\n",
      "Iteration: 1710, Accuracy: 0.9245140913508261\n",
      "Iteration: 1720, Accuracy: 0.9247327502429543\n",
      "Iteration: 1730, Accuracy: 0.9248785228377066\n",
      "Iteration: 1740, Accuracy: 0.9249757045675413\n",
      "Iteration: 1750, Accuracy: 0.9249514091350826\n",
      "Iteration: 1760, Accuracy: 0.9250242954324587\n",
      "Iteration: 1770, Accuracy: 0.9251457725947522\n",
      "Iteration: 1780, Accuracy: 0.9251943634596695\n",
      "Iteration: 1790, Accuracy: 0.925242954324587\n",
      "Iteration: 1800, Accuracy: 0.9253401360544218\n",
      "Iteration: 1810, Accuracy: 0.9254130223517979\n",
      "Iteration: 1820, Accuracy: 0.92555879494655\n",
      "Iteration: 1830, Accuracy: 0.9257774538386784\n",
      "Iteration: 1840, Accuracy: 0.925801749271137\n",
      "Iteration: 1850, Accuracy: 0.9259718172983479\n",
      "Iteration: 1860, Accuracy: 0.9260204081632653\n",
      "Iteration: 1870, Accuracy: 0.9261175898931001\n",
      "Iteration: 1880, Accuracy: 0.9261904761904762\n",
      "Iteration: 1890, Accuracy: 0.9262147716229349\n",
      "Iteration: 1900, Accuracy: 0.926287657920311\n",
      "Iteration: 1910, Accuracy: 0.9264334305150632\n",
      "Iteration: 1920, Accuracy: 0.926530612244898\n",
      "Iteration: 1930, Accuracy: 0.9266520894071915\n",
      "Iteration: 1940, Accuracy: 0.9267978620019436\n",
      "Iteration: 1950, Accuracy: 0.9269679300291546\n",
      "Iteration: 1960, Accuracy: 0.9269922254616132\n",
      "Iteration: 1970, Accuracy: 0.9272351797862002\n",
      "Iteration: 1980, Accuracy: 0.9272594752186589\n",
      "Iteration: 1990, Accuracy: 0.9273080660835763\n",
      "Iteration: 2000, Accuracy: 0.9273566569484937\n",
      "Iteration: 2010, Accuracy: 0.9274538386783284\n",
      "Iteration: 2020, Accuracy: 0.9274781341107872\n",
      "Iteration: 2030, Accuracy: 0.9274781341107872\n",
      "Iteration: 2040, Accuracy: 0.9274538386783284\n",
      "Iteration: 2050, Accuracy: 0.9275267249757045\n",
      "Iteration: 2060, Accuracy: 0.9275267249757045\n",
      "Iteration: 2070, Accuracy: 0.9276239067055394\n",
      "Iteration: 2080, Accuracy: 0.9276724975704568\n",
      "Iteration: 2090, Accuracy: 0.9276967930029154\n",
      "Iteration: 2100, Accuracy: 0.9279397473275024\n",
      "Iteration: 2110, Accuracy: 0.9280612244897959\n",
      "Iteration: 2120, Accuracy: 0.9280612244897959\n",
      "Iteration: 2130, Accuracy: 0.9281098153547133\n",
      "Iteration: 2140, Accuracy: 0.9281584062196307\n",
      "Iteration: 2150, Accuracy: 0.9282069970845481\n",
      "Iteration: 2160, Accuracy: 0.9282312925170068\n",
      "Iteration: 2170, Accuracy: 0.9283527696793002\n",
      "Iteration: 2180, Accuracy: 0.9283284742468416\n",
      "Iteration: 2190, Accuracy: 0.9284499514091351\n",
      "Iteration: 2200, Accuracy: 0.9285957240038872\n",
      "Iteration: 2210, Accuracy: 0.9286929057337221\n",
      "Iteration: 2220, Accuracy: 0.9288143828960156\n",
      "Iteration: 2230, Accuracy: 0.9289115646258503\n",
      "Iteration: 2240, Accuracy: 0.9289844509232265\n",
      "Iteration: 2250, Accuracy: 0.9290573372206026\n",
      "Iteration: 2260, Accuracy: 0.92910592808552\n",
      "Iteration: 2270, Accuracy: 0.9292031098153547\n",
      "Iteration: 2280, Accuracy: 0.9292759961127308\n",
      "Iteration: 2290, Accuracy: 0.9294703595724004\n",
      "Iteration: 2300, Accuracy: 0.9295432458697764\n",
      "Iteration: 2310, Accuracy: 0.929737609329446\n",
      "Iteration: 2320, Accuracy: 0.9298833819241983\n",
      "Iteration: 2330, Accuracy: 0.9300534499514092\n",
      "Iteration: 2340, Accuracy: 0.9300777453838678\n",
      "Iteration: 2350, Accuracy: 0.9300777453838678\n",
      "Iteration: 2360, Accuracy: 0.9300534499514092\n",
      "Iteration: 2370, Accuracy: 0.9301020408163265\n",
      "Iteration: 2380, Accuracy: 0.9300777453838678\n",
      "Iteration: 2390, Accuracy: 0.9300534499514092\n",
      "Iteration: 2400, Accuracy: 0.9300777453838678\n",
      "Iteration: 2410, Accuracy: 0.9301020408163265\n",
      "Iteration: 2420, Accuracy: 0.9302964042759961\n",
      "Iteration: 2430, Accuracy: 0.9302721088435374\n",
      "Iteration: 2440, Accuracy: 0.9303692905733723\n",
      "Iteration: 2450, Accuracy: 0.9304907677356657\n",
      "Iteration: 2460, Accuracy: 0.9304907677356657\n",
      "Iteration: 2470, Accuracy: 0.9306851311953352\n",
      "Iteration: 2480, Accuracy: 0.930709426627794\n",
      "Iteration: 2490, Accuracy: 0.9306851311953352\n"
     ]
    }
   ],
   "source": [
    "W1, b1, W2, b2 = gradient_descent(X_train, Y_train, 0.10, 2500, 32)"
   ]
  },
  {
   "cell_type": "code",
   "execution_count": 1030,
   "id": "445b5d43-0ff1-4272-b5eb-f3dc21ab55b0",
   "metadata": {},
   "outputs": [
    {
     "data": {
      "text/plain": [
       "Text(0.5, 1.0, 'Accuracy vs Iteration')"
      ]
     },
     "execution_count": 1030,
     "metadata": {},
     "output_type": "execute_result"
    },
    {
     "data": {
      "image/png": "[encoded data removed]",
      "text/plain": [
       "<Figure size 640x480 with 1 Axes>"
      ]
     },
     "metadata": {},
     "output_type": "display_data"
    }
   ],
   "source": [
    "plt.plot(History[\"accuracy\"])\n",
    "plt.xlabel('Iterations')\n",
    "plt.ylabel('Accuracy')\n",
    "plt.title('Accuracy vs Iteration')"
   ]
  },
  {
   "cell_type": "code",
   "execution_count": 1031,
   "id": "91cccad6-10c3-435f-85d9-1e0e846d416b",
   "metadata": {},
   "outputs": [],
   "source": [
    "def make_predictions(X, W1, b1, W2, b2):\n",
    "    _, _, _, A2 = forward_prop(W1, b1, W2, b2, X)\n",
    "    predictions = get_predictions(A2)\n",
    "    return predictions\n",
    "\n",
    "def test_prediction(index, W1, b1, W2, b2):\n",
    "    current_image = X_train[:, index, None]\n",
    "    prediction = make_predictions(X_train[:, index, None], W1, b1, W2, b2)\n",
    "    label = Y_train[index]\n",
    "    print(\"Prediction: \", prediction)\n",
    "    print(\"Label: \", label)\n",
    "    \n",
    "    current_image = current_image.reshape((28, 28)) * 255\n",
    "    plt.gray()\n",
    "    plt.imshow(current_image, interpolation='nearest')\n",
    "    plt.show()"
   ]
  },
  {
   "cell_type": "markdown",
   "id": "009746b3-4389-4c6a-95cf-773e4949c2b9",
   "metadata": {},
   "source": [
    "## Evaluate the model with test dataset"
   ]
  },
  {
   "cell_type": "code",
   "execution_count": 1032,
   "id": "9c7a66a0-3568-4e74-950a-6f3e8d1ed0d9",
   "metadata": {},
   "outputs": [
    {
     "data": {
      "text/plain": [
       "0.9297619047619048"
      ]
     },
     "execution_count": 1032,
     "metadata": {},
     "output_type": "execute_result"
    }
   ],
   "source": [
    "dev_predictions = make_predictions(X_test, W1, b1, W2, b2)\n",
    "get_accuracy(dev_predictions, Y_test)"
   ]
  },
  {
   "cell_type": "code",
   "execution_count": 1033,
   "id": "9b647e3d-5b93-4f61-97c6-5300a31f73c2",
   "metadata": {},
   "outputs": [
    {
     "name": "stdout",
     "output_type": "stream",
     "text": [
      "(10, 784) (10, 1) (10, 10) (10, 1)\n"
     ]
    }
   ],
   "source": [
    "print(W1.shape, b1.shape, W2.shape, b2.shape)"
   ]
  },
  {
   "cell_type": "code",
   "execution_count": 1034,
   "id": "2916cc60-d6d0-4e9d-9b87-41a2c575e038",
   "metadata": {},
   "outputs": [
    {
     "name": "stdout",
     "output_type": "stream",
     "text": [
      "Prediction:  [0]\n",
      "Label:  0\n"
     ]
    },
    {
     "data": {
      "image/png": "[encoded data removed]",
      "text/plain": [
       "<Figure size 640x480 with 1 Axes>"
      ]
     },
     "metadata": {},
     "output_type": "display_data"
    }
   ],
   "source": [
    "test_prediction(861, W1, b1, W2, b2)"
   ]
  },
  {
   "cell_type": "markdown",
   "id": "624027cf-69db-4760-aeb8-ad2a7aaca281",
   "metadata": {},
   "source": [
    "## Predicting the test.csv dataset"
   ]
  },
  {
   "cell_type": "code",
   "execution_count": 1035,
   "id": "60a6d54b-136f-4027-9aad-4cf6c316196f",
   "metadata": {},
   "outputs": [],
   "source": [
    "test_set_path = \"digit-recognizer/test.csv\"\n",
    "test = pd.read_csv(test_set_path)"
   ]
  },
  {
   "cell_type": "code",
   "execution_count": 1036,
   "id": "de38b8fa-e932-491c-b1a9-72e62891e325",
   "metadata": {},
   "outputs": [
    {
     "data": {
      "text/plain": [
       "(28000, 784)"
      ]
     },
     "execution_count": 1036,
     "metadata": {},
     "output_type": "execute_result"
    }
   ],
   "source": [
    "test.shape # no labels"
   ]
  },
  {
   "cell_type": "code",
   "execution_count": 1037,
   "id": "23f2c914-3af1-45d6-9f1a-67c7b0b8878e",
   "metadata": {},
   "outputs": [],
   "source": [
    "test = test.T\n",
    "test = min_max_scaling(test)"
   ]
  },
  {
   "cell_type": "code",
   "execution_count": 1038,
   "id": "6699dd23-f97d-4a35-8d08-0be2f3689301",
   "metadata": {},
   "outputs": [],
   "source": [
    "test_predictions = make_predictions(test, W1, b1, W2, b2)"
   ]
  },
  {
   "cell_type": "code",
   "execution_count": 1039,
   "id": "bfaecec1-5c32-47aa-b6df-70d94b40fcb7",
   "metadata": {},
   "outputs": [
    {
     "name": "stdout",
     "output_type": "stream",
     "text": [
      "[    1     2     3 ... 27998 27999 28000]\n"
     ]
    }
   ],
   "source": [
    "ImageId = np.array([x+1 for x in range(0, test_predictions.size)])\n",
    "print(ImageId)"
   ]
  },
  {
   "cell_type": "code",
   "execution_count": 1040,
   "id": "d9e693b2-7918-4d50-9251-be3eb82033ce",
   "metadata": {},
   "outputs": [],
   "source": [
    "df = pd.DataFrame({\"ImageId\": ImageId, \"Label\": test_predictions})\n",
    "df.to_csv(\"digit-recognizer/predictions.csv\", index=False)"
   ]
  },
  {
   "attachments": {
    "ffad7f13-a9d4-42f3-9089-ef2b87383360.png": {
     "image/png": "[encoded data removed]"
    }
   },
   "cell_type": "markdown",
   "id": "b66dcc5e-5e62-4391-9a4d-24599fdff905",
   "metadata": {},
   "source": [
    "## Kaggle Results\n",
    "![image.png](attachment:ffad7f13-a9d4-42f3-9089-ef2b87383360.png)"
   ]
  },
  {
   "cell_type": "markdown",
   "id": "5f543b9b-b342-4193-96f7-c52ee624e5d5",
   "metadata": {},
   "source": [
    "## Video Tutorials I watched\n",
    "\n",
    "First Video : https://www.youtube.com/watch?v=b7NnMZPNIXA\n",
    "\n",
    "Then : https://www.youtube.com/watch?v=w8yWXqWQYmU"
   ]
  }
 ],
 "metadata": {
  "kernelspec": {
   "display_name": "Python 3 (ipykernel)",
   "language": "python",
   "name": "python3"
  },
  "language_info": {
   "codemirror_mode": {
    "name": "ipython",
    "version": 3
   },
   "file_extension": ".py",
   "mimetype": "text/x-python",
   "name": "python",
   "nbconvert_exporter": "python",
   "pygments_lexer": "ipython3",
   "version": "3.11.7"
  }
 },
 "nbformat": 4,
 "nbformat_minor": 5
}
